{
 "cells": [
  {
   "cell_type": "code",
   "execution_count": 1,
   "id": "2ae7ce6a",
   "metadata": {},
   "outputs": [],
   "source": [
    "import pandas as pd\n",
    "import sqlalchemy as sa\n",
    "import requests"
   ]
  },
  {
   "cell_type": "code",
   "execution_count": 2,
   "id": "660015a2",
   "metadata": {},
   "outputs": [],
   "source": [
    "db_secret = {\n",
    "    'drivername' : 'postgresql+psycopg2',\n",
    "    'host'       : 'mmai5100postgres.canadacentral.cloudapp.azure.com',\n",
    "    'port'       :'5432',\n",
    "    'username'   : 'sriku241',\n",
    "    'password'   :'2023!Schulich',\n",
    "    'database'   :'mban_db',\n",
    "    \n",
    "}"
   ]
  },
  {
   "cell_type": "code",
   "execution_count": 3,
   "id": "409a631a",
   "metadata": {},
   "outputs": [],
   "source": [
    "db_connection_url = sa.engine.URL.create(\n",
    "    drivername = db_secret['drivername'],\n",
    "    username   = db_secret['username'],\n",
    "    password   = db_secret['password'],\n",
    "    host       = db_secret['host'],\n",
    "    port       = db_secret['port'],\n",
    "    database   = db_secret['database']\n",
    ")"
   ]
  },
  {
   "cell_type": "code",
   "execution_count": 4,
   "id": "2f2cf45f",
   "metadata": {},
   "outputs": [],
   "source": [
    "engine = sa.create_engine(db_connection_url)"
   ]
  },
  {
   "cell_type": "code",
   "execution_count": 5,
   "id": "bb3aaf3b",
   "metadata": {},
   "outputs": [],
   "source": [
    "with engine.connect() as connection :\n",
    "    data = pd.read_sql('SELECT * FROM dimensions.date_dimension;',con=connection)"
   ]
  },
  {
   "cell_type": "code",
   "execution_count": 6,
   "id": "cc964b71",
   "metadata": {},
   "outputs": [
    {
     "name": "stdout",
     "output_type": "stream",
     "text": [
      "<class 'pandas.core.frame.DataFrame'>\n",
      "RangeIndex: 1826 entries, 0 to 1825\n",
      "Data columns (total 14 columns):\n",
      " #   Column           Non-Null Count  Dtype \n",
      "---  ------           --------------  ----- \n",
      " 0   sk_date          1826 non-null   int64 \n",
      " 1   date             1826 non-null   object\n",
      " 2   day_name         1826 non-null   object\n",
      " 3   day_of_month     1826 non-null   int64 \n",
      " 4   day_of_year      1826 non-null   int64 \n",
      " 5   month            1826 non-null   int64 \n",
      " 6   month_name       1826 non-null   object\n",
      " 7   year             1826 non-null   int64 \n",
      " 8   year_week        1826 non-null   object\n",
      " 9   week             1826 non-null   object\n",
      " 10  running_week     1826 non-null   int64 \n",
      " 11  year_quarter     1826 non-null   object\n",
      " 12  quarter          1826 non-null   object\n",
      " 13  running_quarter  1826 non-null   int64 \n",
      "dtypes: int64(7), object(7)\n",
      "memory usage: 199.8+ KB\n"
     ]
    }
   ],
   "source": [
    "data.info()"
   ]
  },
  {
   "cell_type": "code",
   "execution_count": 7,
   "id": "f8b803d4",
   "metadata": {},
   "outputs": [],
   "source": [
    "db_secret = {\n",
    "    'drivername' : 'postgresql+psycopg2',\n",
    "    'host'       : 'mmai5100postgres.canadacentral.cloudapp.azure.com',\n",
    "    'port'       :'5432',\n",
    "    'username'   : 'sriku241',\n",
    "    'password'   :'2023!Schulich',\n",
    "    'database'   :'sriku241_db'\n",
    "    \n",
    "}"
   ]
  },
  {
   "cell_type": "code",
   "execution_count": 8,
   "id": "910852b2",
   "metadata": {},
   "outputs": [],
   "source": [
    "db_connection_url = sa.engine.URL.create(\n",
    "    drivername = db_secret['drivername'],\n",
    "    username   = db_secret['username'],\n",
    "    password   = db_secret['password'],\n",
    "    host       = db_secret['host'],\n",
    "    port       = db_secret['port'],\n",
    "    database   = db_secret['database']\n",
    ")"
   ]
  },
  {
   "cell_type": "code",
   "execution_count": 9,
   "id": "57a0eace",
   "metadata": {},
   "outputs": [],
   "source": [
    "engine = sa.create_engine(db_connection_url)"
   ]
  },
  {
   "cell_type": "code",
   "execution_count": 10,
   "id": "c98ddc9a",
   "metadata": {},
   "outputs": [],
   "source": [
    "with engine.connect() as connection :\n",
    "    connection.execute('CREATE SCHEMA IF NOT EXISTS final_exam;')"
   ]
  },
  {
   "cell_type": "code",
   "execution_count": 11,
   "id": "9a679192",
   "metadata": {},
   "outputs": [
    {
     "name": "stdout",
     "output_type": "stream",
     "text": [
      "<class 'pandas.core.frame.DataFrame'>\n",
      "RangeIndex: 1826 entries, 0 to 1825\n",
      "Data columns (total 14 columns):\n",
      " #   Column           Non-Null Count  Dtype \n",
      "---  ------           --------------  ----- \n",
      " 0   sk_date          1826 non-null   int64 \n",
      " 1   date             1826 non-null   object\n",
      " 2   day_name         1826 non-null   object\n",
      " 3   day_of_month     1826 non-null   int64 \n",
      " 4   day_of_year      1826 non-null   int64 \n",
      " 5   month            1826 non-null   int64 \n",
      " 6   month_name       1826 non-null   object\n",
      " 7   year             1826 non-null   int64 \n",
      " 8   year_week        1826 non-null   object\n",
      " 9   week             1826 non-null   object\n",
      " 10  running_week     1826 non-null   int64 \n",
      " 11  year_quarter     1826 non-null   object\n",
      " 12  quarter          1826 non-null   object\n",
      " 13  running_quarter  1826 non-null   int64 \n",
      "dtypes: int64(7), object(7)\n",
      "memory usage: 199.8+ KB\n"
     ]
    }
   ],
   "source": [
    "data.info()"
   ]
  },
  {
   "cell_type": "code",
   "execution_count": 12,
   "id": "075cc568",
   "metadata": {},
   "outputs": [],
   "source": [
    "data.to_sql(\n",
    "name = 'date_dimension',\n",
    "schema = 'final_exam',\n",
    "con = engine,\n",
    "if_exists = 'replace',\n",
    "index =False,\n",
    "    method = 'multi',\n",
    "    dtype = {\n",
    "        'sk_date': sa.types.INTEGER,\n",
    "        'date': sa.types.Date,\n",
    "        'day_name': sa.types.VARCHAR(255),\n",
    "        'day_of_month': sa.types.INTEGER,\n",
    "        'day_of_year': sa.types.INTEGER,\n",
    "        'month': sa.types.INTEGER,\n",
    "        'month_name': sa.types.VARCHAR(255),\n",
    "        'year': sa.types.INTEGER,\n",
    "        'year_week': sa.types.VARCHAR(255),\n",
    "        'week': sa.types.VARCHAR(255),\n",
    "        'running_week': sa.types.INTEGER,\n",
    "        'year_quarter': sa.types.VARCHAR(255),\n",
    "        'quarter': sa.types.VARCHAR(255),\n",
    "        'running_quarter': sa.types.INTEGER,\n",
    "       \n",
    "    }\n",
    ")"
   ]
  }
 ],
 "metadata": {
  "kernelspec": {
   "display_name": "Python 3",
   "language": "python",
   "name": "python3"
  },
  "language_info": {
   "codemirror_mode": {
    "name": "ipython",
    "version": 3
   },
   "file_extension": ".py",
   "mimetype": "text/x-python",
   "name": "python",
   "nbconvert_exporter": "python",
   "pygments_lexer": "ipython3",
   "version": "3.6.8"
  }
 },
 "nbformat": 4,
 "nbformat_minor": 5
}
